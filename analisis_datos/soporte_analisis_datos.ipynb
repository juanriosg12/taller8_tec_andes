import pandas as pd
data = pd.read_csv('productividad.csv')
print(data.head())

#Exploramos el archivo
print(data.info())
print(data.describe())

#Verificamos si hay datos duplicados
print(data.isnull().sum())
print(data.duplicated().sum())
