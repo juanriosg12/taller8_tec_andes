import pandas as pd
data = pd.read_csv('ruta/a/tu/archivo/productividad.csv')
print(data.head())
